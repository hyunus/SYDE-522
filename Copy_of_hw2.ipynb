{
  "nbformat": 4,
  "nbformat_minor": 0,
  "metadata": {
    "kernelspec": {
      "display_name": "Python 3",
      "language": "python",
      "name": "python3"
    },
    "language_info": {
      "codemirror_mode": {
        "name": "ipython",
        "version": 3
      },
      "file_extension": ".py",
      "mimetype": "text/x-python",
      "name": "python",
      "nbconvert_exporter": "python",
      "pygments_lexer": "ipython3",
      "version": "3.7.4"
    },
    "colab": {
      "name": "Copy of hw2.ipynb",
      "provenance": [],
      "collapsed_sections": [],
      "include_colab_link": true
    }
  },
  "cells": [
    {
      "cell_type": "markdown",
      "metadata": {
        "id": "view-in-github",
        "colab_type": "text"
      },
      "source": [
        "<a href=\"https://colab.research.google.com/github/hyunus/SYDE-522/blob/master/Copy_of_hw2.ipynb\" target=\"_parent\"><img src=\"https://colab.research.google.com/assets/colab-badge.svg\" alt=\"Open In Colab\"/></a>"
      ]
    },
    {
      "cell_type": "markdown",
      "metadata": {
        "id": "0HDtBZMUMTnd",
        "colab_type": "text"
      },
      "source": [
        "# Assignment 2: Data Preprocessing, Parameter Tuning, Model Evaluation Using SVM, K-NN, K-means, SOM\n",
        "\n",
        "## What you will learn\n",
        "\n",
        "* Data preprocessing\n",
        "* Parameter Tuning\n",
        "* Model evaluation\n",
        "* Employing SVM and K-NN methods on the data\n",
        "* kmeans objective function and color quantization kmeans clustering\n",
        "* SOM for color mapping\n",
        "\n",
        "\n",
        "## Submission\n",
        "* Do not change any variable/function names.\n",
        "* Just add your own code and don't change existing code\n",
        "* Save this file and rename it to be **studentid_lastname.ipynb** (student id (underscore) last name.ipynb) where your student id is all numbers.\n",
        "* Export your .ipynb file to PDF (File > Download as > PDF via Latex). **Please don't leave this step for final minutes**.\n",
        "* Submit both the notebook and PDF files (**NO ZIP, RAR,..**).\n",
        "* If you happen to use any external library not included in Anaconda (mention in **Submission Notes** section below)\n",
        "* Deadline: February 26 at 11:55 pm\n",
        "* Late assignments will be penalized with 10% per day.\n",
        "\n"
      ]
    },
    {
      "cell_type": "code",
      "metadata": {
        "id": "8Y6ChXbDMTnf",
        "colab_type": "code",
        "colab": {}
      },
      "source": [
        "from sklearn.svm import SVC\n",
        "from sklearn.pipeline import make_pipeline\n",
        "from sklearn.preprocessing import StandardScaler\n",
        "from sklearn.model_selection import GridSearchCV\n",
        "from sklearn.model_selection import train_test_split\n",
        "from sklearn.model_selection import StratifiedShuffleSplit\n",
        "from sklearn.cluster import KMeans\n",
        "from sklearn.metrics import classification_report\n",
        "import itertools\n",
        "from sklearn.metrics import confusion_matrix\n",
        "import pandas as pd\n",
        "import numpy as np\n",
        "import matplotlib.pyplot as plt\n",
        "%matplotlib inline\n",
        "\n",
        "# remove the following statements if you like to see warnings\n",
        "import warnings\n",
        "warnings.filterwarnings('ignore')"
      ],
      "execution_count": 0,
      "outputs": []
    },
    {
      "cell_type": "markdown",
      "metadata": {
        "id": "1TzKf3RgMTnj",
        "colab_type": "text"
      },
      "source": [
        "## Submission Notes\n",
        "(Please write any notes here that you think I should know during marking)"
      ]
    },
    {
      "cell_type": "markdown",
      "metadata": {
        "id": "VpC_8uuaMTnj",
        "colab_type": "text"
      },
      "source": [
        "# [NO MARKS]  Warming Up\n",
        "Various interesting machine learning datasets can be found at:\n",
        "- https://archive.ics.uci.edu/ml/index.php\n",
        "\n",
        "For this task, we have chosen the Heart Disease dataset, available at:\n",
        "- https://archive.ics.uci.edu/ml/datasets/heart+Disease\n",
        "\n",
        "**Data Set Information**\n",
        "\n",
        "- The dataset contains **303 subjects** with **76 attributes**. \n",
        "- All the published experiments refer to using a subset of **14 of attributes**. \n",
        "- The **goal** field in the dataset refers to **the presence of heart disease** in the patient. \n",
        "- It is integer valued from 0 (no presence) to 4 (highest presence). \n",
        "\n",
        "**Note:** Since the class number 4 is very sparse (just 13 subjects). We have dropped the subjects belonging to class 4 from the data.\n",
        "\n",
        "Experiments with the Cleveland dataset have concentrated on---attempting to distinguish **the presence** (values 1, 2, 3, 4) from **the absence** (value 0).\n",
        "\n",
        "**Attribute Information**\n",
        "\n",
        "14 attributes are been used: \n",
        "\n",
        "1. #3 (age) \n",
        "2. #4 (sex) \n",
        "3. #9 (cp) \n",
        "4. #10 (trestbps) \n",
        "5. #12 (chol) \n",
        "6. #16 (fbs) \n",
        "7. #19 (restecg) \n",
        "8. #32 (thalach) \n",
        "9. #38 (exang) \n",
        "10. #40 (oldpeak) \n",
        "11. #41 (slope) \n",
        "12. #44 (ca) \n",
        "13. #51 (thal) \n",
        "14. #58 (num) (the predicted attribute)"
      ]
    },
    {
      "cell_type": "markdown",
      "metadata": {
        "id": "ersxQiYxMTnk",
        "colab_type": "text"
      },
      "source": [
        "\n",
        "### (no marks) Reading the data\n"
      ]
    },
    {
      "cell_type": "code",
      "metadata": {
        "id": "ixImCJSUoroD",
        "colab_type": "code",
        "outputId": "3b0d4e2e-c24c-4af0-d0d6-43ed00d69086",
        "colab": {
          "base_uri": "https://localhost:8080/",
          "height": 210
        }
      },
      "source": [
        "\n",
        "!wget http://dev1-kimia.uwaterloo.ca:5000/data/ass2/processed_cleveland.csv"
      ],
      "execution_count": 0,
      "outputs": [
        {
          "output_type": "stream",
          "text": [
            "--2020-02-26 19:33:27--  http://dev1-kimia.uwaterloo.ca:5000/data/ass2/processed_cleveland.csv\n",
            "Resolving dev1-kimia.uwaterloo.ca (dev1-kimia.uwaterloo.ca)... 129.97.229.28\n",
            "Connecting to dev1-kimia.uwaterloo.ca (dev1-kimia.uwaterloo.ca)|129.97.229.28|:5000... connected.\n",
            "HTTP request sent, awaiting response... 200 OK\n",
            "Length: 18461 (18K) [text/csv]\n",
            "Saving to: ‘processed_cleveland.csv’\n",
            "\n",
            "\rprocessed_cleveland   0%[                    ]       0  --.-KB/s               \rprocessed_cleveland 100%[===================>]  18.03K  --.-KB/s    in 0.04s   \n",
            "\n",
            "2020-02-26 19:33:27 (499 KB/s) - ‘processed_cleveland.csv’ saved [18461/18461]\n",
            "\n"
          ],
          "name": "stdout"
        }
      ]
    },
    {
      "cell_type": "code",
      "metadata": {
        "id": "XV66FK9hMTnl",
        "colab_type": "code",
        "outputId": "576b8694-63d4-4052-dff6-17360f6991a7",
        "colab": {
          "base_uri": "https://localhost:8080/",
          "height": 375
        }
      },
      "source": [
        "# Reading the data-set\n",
        "\n",
        "df_original = pd.read_csv('/content/processed_cleveland.csv', header=None)\n",
        "df_original.columns = ['age', 'sex', 'cp', 'trestbps', 'chol', 'fbs', \n",
        "                       'restecg', 'thalach', 'exang', 'oldpeak', 'slope', 'ca', 'thal', 'prediction']\n",
        "print('Data-set shape: ',df_original.shape)\n",
        "\n",
        "df_original.tail(n=10)"
      ],
      "execution_count": 0,
      "outputs": [
        {
          "output_type": "stream",
          "text": [
            "Data-set shape:  (303, 14)\n"
          ],
          "name": "stdout"
        },
        {
          "output_type": "execute_result",
          "data": {
            "text/html": [
              "<div>\n",
              "<style scoped>\n",
              "    .dataframe tbody tr th:only-of-type {\n",
              "        vertical-align: middle;\n",
              "    }\n",
              "\n",
              "    .dataframe tbody tr th {\n",
              "        vertical-align: top;\n",
              "    }\n",
              "\n",
              "    .dataframe thead th {\n",
              "        text-align: right;\n",
              "    }\n",
              "</style>\n",
              "<table border=\"1\" class=\"dataframe\">\n",
              "  <thead>\n",
              "    <tr style=\"text-align: right;\">\n",
              "      <th></th>\n",
              "      <th>age</th>\n",
              "      <th>sex</th>\n",
              "      <th>cp</th>\n",
              "      <th>trestbps</th>\n",
              "      <th>chol</th>\n",
              "      <th>fbs</th>\n",
              "      <th>restecg</th>\n",
              "      <th>thalach</th>\n",
              "      <th>exang</th>\n",
              "      <th>oldpeak</th>\n",
              "      <th>slope</th>\n",
              "      <th>ca</th>\n",
              "      <th>thal</th>\n",
              "      <th>prediction</th>\n",
              "    </tr>\n",
              "  </thead>\n",
              "  <tbody>\n",
              "    <tr>\n",
              "      <th>293</th>\n",
              "      <td>63.0</td>\n",
              "      <td>1.0</td>\n",
              "      <td>4.0</td>\n",
              "      <td>140.0</td>\n",
              "      <td>187.0</td>\n",
              "      <td>0.0</td>\n",
              "      <td>2.0</td>\n",
              "      <td>144.0</td>\n",
              "      <td>1.0</td>\n",
              "      <td>4.0</td>\n",
              "      <td>1.0</td>\n",
              "      <td>2.0</td>\n",
              "      <td>7.0</td>\n",
              "      <td>2</td>\n",
              "    </tr>\n",
              "    <tr>\n",
              "      <th>294</th>\n",
              "      <td>63.0</td>\n",
              "      <td>0.0</td>\n",
              "      <td>4.0</td>\n",
              "      <td>124.0</td>\n",
              "      <td>197.0</td>\n",
              "      <td>0.0</td>\n",
              "      <td>0.0</td>\n",
              "      <td>136.0</td>\n",
              "      <td>1.0</td>\n",
              "      <td>0.0</td>\n",
              "      <td>2.0</td>\n",
              "      <td>0.0</td>\n",
              "      <td>3.0</td>\n",
              "      <td>1</td>\n",
              "    </tr>\n",
              "    <tr>\n",
              "      <th>295</th>\n",
              "      <td>41.0</td>\n",
              "      <td>1.0</td>\n",
              "      <td>2.0</td>\n",
              "      <td>120.0</td>\n",
              "      <td>157.0</td>\n",
              "      <td>0.0</td>\n",
              "      <td>0.0</td>\n",
              "      <td>182.0</td>\n",
              "      <td>0.0</td>\n",
              "      <td>0.0</td>\n",
              "      <td>1.0</td>\n",
              "      <td>0.0</td>\n",
              "      <td>3.0</td>\n",
              "      <td>0</td>\n",
              "    </tr>\n",
              "    <tr>\n",
              "      <th>296</th>\n",
              "      <td>59.0</td>\n",
              "      <td>1.0</td>\n",
              "      <td>4.0</td>\n",
              "      <td>164.0</td>\n",
              "      <td>176.0</td>\n",
              "      <td>1.0</td>\n",
              "      <td>2.0</td>\n",
              "      <td>90.0</td>\n",
              "      <td>0.0</td>\n",
              "      <td>1.0</td>\n",
              "      <td>2.0</td>\n",
              "      <td>2.0</td>\n",
              "      <td>6.0</td>\n",
              "      <td>3</td>\n",
              "    </tr>\n",
              "    <tr>\n",
              "      <th>297</th>\n",
              "      <td>57.0</td>\n",
              "      <td>0.0</td>\n",
              "      <td>4.0</td>\n",
              "      <td>140.0</td>\n",
              "      <td>241.0</td>\n",
              "      <td>0.0</td>\n",
              "      <td>0.0</td>\n",
              "      <td>123.0</td>\n",
              "      <td>1.0</td>\n",
              "      <td>0.2</td>\n",
              "      <td>2.0</td>\n",
              "      <td>0.0</td>\n",
              "      <td>7.0</td>\n",
              "      <td>1</td>\n",
              "    </tr>\n",
              "    <tr>\n",
              "      <th>298</th>\n",
              "      <td>45.0</td>\n",
              "      <td>1.0</td>\n",
              "      <td>1.0</td>\n",
              "      <td>110.0</td>\n",
              "      <td>264.0</td>\n",
              "      <td>0.0</td>\n",
              "      <td>0.0</td>\n",
              "      <td>132.0</td>\n",
              "      <td>0.0</td>\n",
              "      <td>1.2</td>\n",
              "      <td>2.0</td>\n",
              "      <td>0.0</td>\n",
              "      <td>7.0</td>\n",
              "      <td>1</td>\n",
              "    </tr>\n",
              "    <tr>\n",
              "      <th>299</th>\n",
              "      <td>68.0</td>\n",
              "      <td>1.0</td>\n",
              "      <td>4.0</td>\n",
              "      <td>144.0</td>\n",
              "      <td>193.0</td>\n",
              "      <td>1.0</td>\n",
              "      <td>0.0</td>\n",
              "      <td>141.0</td>\n",
              "      <td>0.0</td>\n",
              "      <td>3.4</td>\n",
              "      <td>2.0</td>\n",
              "      <td>2.0</td>\n",
              "      <td>7.0</td>\n",
              "      <td>2</td>\n",
              "    </tr>\n",
              "    <tr>\n",
              "      <th>300</th>\n",
              "      <td>57.0</td>\n",
              "      <td>1.0</td>\n",
              "      <td>4.0</td>\n",
              "      <td>130.0</td>\n",
              "      <td>131.0</td>\n",
              "      <td>0.0</td>\n",
              "      <td>0.0</td>\n",
              "      <td>115.0</td>\n",
              "      <td>1.0</td>\n",
              "      <td>1.2</td>\n",
              "      <td>2.0</td>\n",
              "      <td>1.0</td>\n",
              "      <td>7.0</td>\n",
              "      <td>3</td>\n",
              "    </tr>\n",
              "    <tr>\n",
              "      <th>301</th>\n",
              "      <td>57.0</td>\n",
              "      <td>0.0</td>\n",
              "      <td>2.0</td>\n",
              "      <td>130.0</td>\n",
              "      <td>236.0</td>\n",
              "      <td>0.0</td>\n",
              "      <td>2.0</td>\n",
              "      <td>174.0</td>\n",
              "      <td>0.0</td>\n",
              "      <td>0.0</td>\n",
              "      <td>2.0</td>\n",
              "      <td>1.0</td>\n",
              "      <td>3.0</td>\n",
              "      <td>1</td>\n",
              "    </tr>\n",
              "    <tr>\n",
              "      <th>302</th>\n",
              "      <td>38.0</td>\n",
              "      <td>1.0</td>\n",
              "      <td>3.0</td>\n",
              "      <td>138.0</td>\n",
              "      <td>175.0</td>\n",
              "      <td>0.0</td>\n",
              "      <td>0.0</td>\n",
              "      <td>173.0</td>\n",
              "      <td>0.0</td>\n",
              "      <td>0.0</td>\n",
              "      <td>1.0</td>\n",
              "      <td>?</td>\n",
              "      <td>3.0</td>\n",
              "      <td>0</td>\n",
              "    </tr>\n",
              "  </tbody>\n",
              "</table>\n",
              "</div>"
            ],
            "text/plain": [
              "      age  sex   cp  trestbps   chol  ...  oldpeak  slope   ca  thal  prediction\n",
              "293  63.0  1.0  4.0     140.0  187.0  ...      4.0    1.0  2.0   7.0           2\n",
              "294  63.0  0.0  4.0     124.0  197.0  ...      0.0    2.0  0.0   3.0           1\n",
              "295  41.0  1.0  2.0     120.0  157.0  ...      0.0    1.0  0.0   3.0           0\n",
              "296  59.0  1.0  4.0     164.0  176.0  ...      1.0    2.0  2.0   6.0           3\n",
              "297  57.0  0.0  4.0     140.0  241.0  ...      0.2    2.0  0.0   7.0           1\n",
              "298  45.0  1.0  1.0     110.0  264.0  ...      1.2    2.0  0.0   7.0           1\n",
              "299  68.0  1.0  4.0     144.0  193.0  ...      3.4    2.0  2.0   7.0           2\n",
              "300  57.0  1.0  4.0     130.0  131.0  ...      1.2    2.0  1.0   7.0           3\n",
              "301  57.0  0.0  2.0     130.0  236.0  ...      0.0    2.0  1.0   3.0           1\n",
              "302  38.0  1.0  3.0     138.0  175.0  ...      0.0    1.0    ?   3.0           0\n",
              "\n",
              "[10 rows x 14 columns]"
            ]
          },
          "metadata": {
            "tags": []
          },
          "execution_count": 3
        }
      ]
    },
    {
      "cell_type": "markdown",
      "metadata": {
        "id": "Tqn5qyAyMTno",
        "colab_type": "text"
      },
      "source": [
        "\n",
        "### (no marks) Removing the missing data\n",
        "There are many missing data marked by '?' in the dataset. We will use *dropping* as the most straight-forward technique for removing such data-points."
      ]
    },
    {
      "cell_type": "code",
      "metadata": {
        "id": "41HjxgQ-MTnp",
        "colab_type": "code",
        "colab": {}
      },
      "source": [
        "# Removing all subjects from class 4\n",
        "df = df_original.loc[df_original.prediction != 4]\n",
        "\n",
        "# Replacing the missing data '?' with NAN values\n",
        "df.replace('?', np.nan, inplace=True) \n",
        "df = df.dropna()\n",
        "df = df.astype(float)"
      ],
      "execution_count": 0,
      "outputs": []
    },
    {
      "cell_type": "markdown",
      "metadata": {
        "id": "25bk2aenMTnr",
        "colab_type": "text"
      },
      "source": [
        "\n",
        "### (no marks) Splitting the data\n"
      ]
    },
    {
      "cell_type": "code",
      "metadata": {
        "id": "sZXmzHu2MTns",
        "colab_type": "code",
        "outputId": "ea6677f5-0c9c-468b-a3ae-d33bc44d1bb9",
        "colab": {
          "base_uri": "https://localhost:8080/",
          "height": 386
        }
      },
      "source": [
        "# Separating the data and the labels\n",
        "X = np.asarray(df[df.columns[:-1]]).astype(np.float32)\n",
        "y = np.asarray(df.prediction)\n",
        "\n",
        "# Splitting the data into the train and the test sets\n",
        "sss = StratifiedShuffleSplit(n_splits=1, test_size=0.2, random_state=0)\n",
        "sss.get_n_splits(X, y)\n",
        "\n",
        "train_index, test_index = next(sss.split(X, y))\n",
        "X_train, X_test = X[train_index], X[test_index]\n",
        "y_train, y_test = y[train_index], y[test_index]\n",
        "    \n",
        "print('Training data: \\n',X_train)\n",
        "print('\\n')\n",
        "print('Training labels: \\n',y_train)"
      ],
      "execution_count": 0,
      "outputs": [
        {
          "output_type": "stream",
          "text": [
            "Training data: \n",
            " [[45.  0.  4. ...  2.  0.  3.]\n",
            " [41.  1.  2. ...  2.  0.  6.]\n",
            " [42.  1.  4. ...  1.  0.  3.]\n",
            " ...\n",
            " [67.  1.  4. ...  2.  2.  7.]\n",
            " [65.  1.  4. ...  2.  1.  7.]\n",
            " [62.  0.  4. ...  1.  0.  3.]]\n",
            "\n",
            "\n",
            "Training labels: \n",
            " [0. 0. 0. 1. 0. 3. 0. 0. 0. 1. 1. 3. 0. 1. 1. 0. 2. 3. 0. 1. 3. 3. 0. 0.\n",
            " 0. 2. 0. 0. 3. 0. 0. 0. 3. 1. 2. 0. 0. 3. 0. 0. 1. 1. 1. 1. 1. 1. 0. 0.\n",
            " 1. 3. 1. 2. 0. 2. 2. 0. 0. 0. 0. 1. 3. 1. 0. 2. 0. 0. 0. 0. 1. 0. 0. 0.\n",
            " 3. 0. 0. 0. 1. 0. 0. 0. 3. 1. 0. 0. 1. 1. 1. 0. 0. 3. 0. 0. 0. 2. 2. 0.\n",
            " 0. 0. 0. 0. 0. 3. 0. 2. 2. 2. 0. 1. 0. 0. 1. 1. 0. 0. 0. 0. 0. 0. 0. 2.\n",
            " 2. 0. 0. 1. 0. 0. 0. 1. 3. 0. 0. 0. 0. 0. 0. 2. 2. 1. 2. 0. 1. 0. 2. 0.\n",
            " 3. 1. 0. 0. 0. 3. 0. 0. 0. 2. 2. 0. 2. 1. 0. 0. 0. 3. 3. 0. 0. 0. 0. 1.\n",
            " 0. 1. 3. 0. 0. 1. 0. 1. 0. 0. 0. 0. 0. 3. 0. 1. 0. 0. 3. 0. 2. 3. 0. 0.\n",
            " 0. 0. 2. 0. 1. 1. 0. 0. 3. 0. 2. 1. 0. 2. 2. 0. 0. 0. 1. 0. 0. 0. 3. 1.\n",
            " 2. 0. 3. 0. 0. 3. 0. 3. 1. 2. 0.]\n"
          ],
          "name": "stdout"
        }
      ]
    },
    {
      "cell_type": "markdown",
      "metadata": {
        "id": "evCGNC1zMTnv",
        "colab_type": "text"
      },
      "source": [
        "## [10 marks] Data Exploration\n",
        "\n",
        "a) (3 marks) Use `pandas` to find the ratio of the presence of disease versus the absence within the different `sex`.\n",
        "\n",
        "**Note:** `0` is female and `1` is male."
      ]
    },
    {
      "cell_type": "code",
      "metadata": {
        "id": "wWzdzqojMTnw",
        "colab_type": "code",
        "outputId": "56e3ae6b-2271-4b58-81ea-708616bcfe73",
        "colab": {
          "base_uri": "https://localhost:8080/",
          "height": 158
        }
      },
      "source": [
        "# we have defined a new column which is `true` if there is a presence of disease (i.e., prediction is [1, 2, 3])\n",
        "df['has_disease'] = df.apply(lambda x: x.prediction in [1, 2, 3], axis=1)\n",
        "\n",
        "# use groupby and aggregation\n",
        "print(df.groupby('sex').mean()['has_disease'])\n",
        "print(df.groupby('sex').count()['has_disease'])"
      ],
      "execution_count": 0,
      "outputs": [
        {
          "output_type": "stream",
          "text": [
            "sex\n",
            "0.0    0.244681\n",
            "1.0    0.531579\n",
            "Name: has_disease, dtype: float64\n",
            "sex\n",
            "0.0     94\n",
            "1.0    190\n",
            "Name: has_disease, dtype: int64\n"
          ],
          "name": "stdout"
        }
      ]
    },
    {
      "cell_type": "markdown",
      "metadata": {
        "id": "vLVJ1GCHjUXT",
        "colab_type": "text"
      },
      "source": [
        "ANSWER: For the 94 females, approximately 24.5% of them have the disease. For the 190 males, approximately 53.2% of them have the disease."
      ]
    },
    {
      "cell_type": "markdown",
      "metadata": {
        "id": "BfMuAxeHMTny",
        "colab_type": "text"
      },
      "source": [
        "b) (7 marks) Do the same thing for age. Split the age groups as follows (left included, right isn't):\n",
        "\n",
        "1. [29, 49)\n",
        "2. [49, 69)\n",
        "3. [69, inf)\n",
        "\n",
        "And then find the average ratio of prevalence of the heart disease within the each group."
      ]
    },
    {
      "cell_type": "code",
      "metadata": {
        "id": "X8JqACKkMTny",
        "colab_type": "code",
        "outputId": "13998ca6-ff43-45dc-f97e-fd2816ff441b",
        "colab": {
          "base_uri": "https://localhost:8080/",
          "height": 193
        }
      },
      "source": [
        "# write your code here\n",
        "\n",
        "ages = [29, 49, 69, 110]\n",
        "labels = ['Adult', \"Middle-Aged\", \"Senior\"]\n",
        "df['age_group'] = pd.cut(df['age'], bins=ages, labels=labels, right=False)\n",
        "print(df.groupby('age_group').mean()['has_disease'])\n",
        "print(df.groupby('age_group').count()['has_disease'])"
      ],
      "execution_count": 0,
      "outputs": [
        {
          "output_type": "stream",
          "text": [
            "age_group\n",
            "Adult          0.278481\n",
            "Middle-Aged    0.510309\n",
            "Senior         0.272727\n",
            "Name: has_disease, dtype: float64\n",
            "age_group\n",
            "Adult           79\n",
            "Middle-Aged    194\n",
            "Senior          11\n",
            "Name: has_disease, dtype: int64\n"
          ],
          "name": "stdout"
        }
      ]
    },
    {
      "cell_type": "markdown",
      "metadata": {
        "id": "YVXCCUBIkwgt",
        "colab_type": "text"
      },
      "source": [
        "ANSWER: For the 79 Adults, approximately 27.8% of them have the disease. For the 194 Middle Aged people, approximately 51% of them have the disease. For the 11 Seniors, approximately 27.3% of them have the disease."
      ]
    },
    {
      "cell_type": "markdown",
      "metadata": {
        "id": "yRxo1PH9MTn1",
        "colab_type": "text"
      },
      "source": [
        "### (no marks) Utility function"
      ]
    },
    {
      "cell_type": "code",
      "metadata": {
        "id": "PL7KgdbzMTn1",
        "colab_type": "code",
        "colab": {}
      },
      "source": [
        "# Do not change the function\n",
        "# This function is adapted from the sklearn website\n",
        "# This function let you draw a confusion matrix for your problem\n",
        "\n",
        "def plot_confusion_matrix(cm, classes,\n",
        "                          normalize=False,\n",
        "                          title='Confusion matrix',\n",
        "                          cmap=plt.cm.Blues):\n",
        "    \"\"\"\n",
        "    This function prints and plots the confusion matrix.\n",
        "    Normalization can be applied by setting `normalize=True`.\n",
        "    \"\"\"\n",
        "    if normalize:\n",
        "        cm = cm.astype('float') / cm.sum(axis=1)[:, np.newaxis]\n",
        "        print(\"Normalized confusion matrix\")\n",
        "    else:\n",
        "        print('Confusion matrix, without normalization')\n",
        "\n",
        "    print(cm)\n",
        "\n",
        "    plt.imshow(cm, interpolation='nearest', cmap=cmap)\n",
        "    plt.title(title)\n",
        "    plt.colorbar()\n",
        "    tick_marks = np.arange(len(classes))\n",
        "    plt.xticks(tick_marks, classes, rotation=45)\n",
        "    plt.yticks(tick_marks, classes)\n",
        "\n",
        "    fmt = '.2f' if normalize else 'd'\n",
        "    thresh = cm.max() / 2.\n",
        "    for i, j in itertools.product(range(cm.shape[0]), range(cm.shape[1])):\n",
        "        plt.text(j, i, format(cm[i, j], fmt),\n",
        "                 horizontalalignment=\"center\",\n",
        "                 color=\"white\" if cm[i, j] > thresh else \"black\")\n",
        "\n",
        "    plt.ylabel('True label')\n",
        "    plt.xlabel('Predicted label')\n",
        "    plt.tight_layout()"
      ],
      "execution_count": 0,
      "outputs": []
    },
    {
      "cell_type": "code",
      "metadata": {
        "id": "sEx5wwkjMTn4",
        "colab_type": "code",
        "outputId": "ab38de57-0b51-4712-e5c2-4f547122448c",
        "colab": {
          "base_uri": "https://localhost:8080/",
          "height": 350
        }
      },
      "source": [
        "# usage\n",
        "plot_confusion_matrix(np.array([[1, 2], [3, 4]]), ['class 1', 'class 2'])"
      ],
      "execution_count": 0,
      "outputs": [
        {
          "output_type": "stream",
          "text": [
            "Confusion matrix, without normalization\n",
            "[[1 2]\n",
            " [3 4]]\n"
          ],
          "name": "stdout"
        },
        {
          "output_type": "display_data",
          "data": {
            "image/png": "[encoded data removed]",
            "text/plain": [
              "<Figure size 432x288 with 2 Axes>"
            ]
          },
          "metadata": {
            "tags": []
          }
        }
      ]
    },
    {
      "cell_type": "markdown",
      "metadata": {
        "id": "iYIXbhm2MTn7",
        "colab_type": "text"
      },
      "source": [
        "# Task 1 [10 marks]\n",
        "\n",
        "### a) [4 marks] Applying KNN to the data"
      ]
    },
    {
      "cell_type": "code",
      "metadata": {
        "id": "q3py3QY9MTn_",
        "colab_type": "code",
        "outputId": "e3fc1c92-211c-4e9a-8931-48bb38ab5cb8",
        "colab": {
          "base_uri": "https://localhost:8080/",
          "height": 578
        }
      },
      "source": [
        "from sklearn.neighbors import KNeighborsClassifier  \n",
        "from sklearn.preprocessing import MinMaxScaler\n",
        "\n",
        "# Task 2\n",
        "# Add your code in the following part:\n",
        "\n",
        "# We use min max scaler to normalize the features between [0, 1] \n",
        "scaler = MinMaxScaler()\n",
        "\n",
        "# Add your code here instead of ...\n",
        "scaler.fit(X_train)\n",
        "\n",
        "# Create a knn classifier instance here (If you don't add anything here, your code won't execute!)\n",
        "knn_clf = KNeighborsClassifier(n_neighbors=5)\n",
        "\n",
        "# Fit the classifier using the train data (If you don't add anything here, your code won't execute!)\n",
        "knn_clf.fit(X_train, y_train)\n",
        "\n",
        "# Predict the test class labels using the trained classifier (If you don't add anything here, your code won't execute!)\n",
        "y_pred = knn_clf.predict(X_test)\n",
        "\n",
        "# (If you don't add anything here, your code won't execute!) \n",
        "print(classification_report(y_test, y_pred))\n",
        "\n",
        "cnf_matrix = confusion_matrix(y_test, y_pred)\n",
        "plot_confusion_matrix(cnf_matrix, classes=[0,1,2,3],\n",
        "                      title='Confusion matrix, without normalization')"
      ],
      "execution_count": 0,
      "outputs": [
        {
          "output_type": "stream",
          "text": [
            "              precision    recall  f1-score   support\n",
            "\n",
            "         0.0       0.63      0.91      0.74        32\n",
            "         1.0       0.17      0.09      0.12        11\n",
            "         2.0       0.50      0.14      0.22         7\n",
            "         3.0       0.33      0.14      0.20         7\n",
            "\n",
            "    accuracy                           0.56        57\n",
            "   macro avg       0.41      0.32      0.32        57\n",
            "weighted avg       0.49      0.56      0.49        57\n",
            "\n",
            "Confusion matrix, without normalization\n",
            "[[29  3  0  0]\n",
            " [ 8  1  1  1]\n",
            " [ 5  0  1  1]\n",
            " [ 4  2  0  1]]\n"
          ],
          "name": "stdout"
        },
        {
          "output_type": "display_data",
          "data": {
            "image/png": "[encoded data removed]",
            "text/plain": [
              "<Figure size 432x288 with 2 Axes>"
            ]
          },
          "metadata": {
            "tags": []
          }
        }
      ]
    },
    {
      "cell_type": "markdown",
      "metadata": {
        "id": "ZKVC5QhOMToF",
        "colab_type": "text"
      },
      "source": [
        "### b) [3 marks] Between $K=3$ and $k=5$ which one gives more  accuracy ?"
      ]
    },
    {
      "cell_type": "code",
      "metadata": {
        "id": "3g69k3exMToF",
        "colab_type": "code",
        "outputId": "223db6af-a58b-4fd2-e57a-77e277be25a8",
        "colab": {
          "base_uri": "https://localhost:8080/",
          "height": 34
        }
      },
      "source": [
        "from sklearn.metrics import accuracy_score\n",
        "\n",
        "# write your code here and populate `y_pred_k5` and `y_pred_k3`\n",
        "\n",
        "#knn instances\n",
        "knn_clf3 = KNeighborsClassifier(n_neighbors=3)\n",
        "knn_clf5 = KNeighborsClassifier(n_neighbors=5)\n",
        "\n",
        "#fit classifiers with training data\n",
        "knn_clf3.fit(X_train, y_train)\n",
        "knn_clf5.fit(X_train, y_train)\n",
        "\n",
        "#predict test class labels \n",
        "y_pred_k3 = knn_clf3.predict(X_test)\n",
        "y_pred_k5 = knn_clf5.predict(X_test)\n",
        "\n",
        "print(accuracy_score(y_test, y_pred_k5), accuracy_score(y_test, y_pred_k3))"
      ],
      "execution_count": 0,
      "outputs": [
        {
          "output_type": "stream",
          "text": [
            "0.5614035087719298 0.5263157894736842\n"
          ],
          "name": "stdout"
        }
      ]
    },
    {
      "cell_type": "markdown",
      "metadata": {
        "id": "MvIha-4bpbxr",
        "colab_type": "text"
      },
      "source": [
        "ANSWER: Here, we see an accuracy score of 0.56 for k=5 and an accuracy score of 0.53 for k=3. This indicates that k=5 gives more accuracy."
      ]
    },
    {
      "cell_type": "markdown",
      "metadata": {
        "id": "UDgTTD8yMToH",
        "colab_type": "text"
      },
      "source": [
        "### c) [3 marks] Between $\\ell_1$, $\\ell_2$, and $cosine$ similarity which one is better in term of accuracy?"
      ]
    },
    {
      "cell_type": "code",
      "metadata": {
        "id": "dscawdCtMToI",
        "colab_type": "code",
        "outputId": "7184ccde-9d3e-45a3-f819-45f5f054d788",
        "colab": {
          "base_uri": "https://localhost:8080/",
          "height": 34
        }
      },
      "source": [
        "# write your code here to experiment with different distance metrics\n",
        "# use argument `metric` to change to a different distance by default it is euclidean distance \n",
        "\n",
        "#initialize classifiers\n",
        "knn_clf_man = KNeighborsClassifier(metric='manhattan')\n",
        "knn_clf_mink = KNeighborsClassifier(metric='minkowski') \n",
        "knn_clf_cos = KNeighborsClassifier(metric='cosine')\n",
        "\n",
        "#fit classifiers\n",
        "knn_clf_man.fit(X_train, y_train)\n",
        "knn_clf_mink.fit(X_train, y_train)\n",
        "knn_clf_cos.fit(X_train, y_train)\n",
        "\n",
        "#predict\n",
        "y_pred_man = knn_clf_man.predict(X_test)\n",
        "y_pred_mink = knn_clf_mink.predict(X_test)\n",
        "y_pred_cos = knn_clf_cos.predict(X_test)\n",
        "\n",
        "#print accuracies\n",
        "\n",
        "print(accuracy_score(y_test, y_pred_man), accuracy_score(y_test, y_pred_mink), accuracy_score(y_test, y_pred_cos))\n",
        "\n"
      ],
      "execution_count": 0,
      "outputs": [
        {
          "output_type": "stream",
          "text": [
            "0.5789473684210527 0.5614035087719298 0.45614035087719296\n"
          ],
          "name": "stdout"
        }
      ]
    },
    {
      "cell_type": "markdown",
      "metadata": {
        "id": "oIrHHCyKsCEc",
        "colab_type": "text"
      },
      "source": [
        "ANSWER: Out of Manhattan, Minkowski, and Cosine distance, Manhattan distance has the greatest accuracy."
      ]
    },
    {
      "cell_type": "markdown",
      "metadata": {
        "id": "-TCkTy7QMToK",
        "colab_type": "text"
      },
      "source": [
        "# Task 2 [10 marks]\n",
        "\n",
        "### Understanding the pipelining architecture of `Sklearn`\n",
        "\n",
        "In the code above, you had to call `scaler` for every prediction by a model. This can be avoided by using a `pipeline` mechanism within sklearn. Look at the code below:\n",
        "\n",
        "1. We create a data scaler (can be any sclaer with fit and transform functions).\n",
        "2. We create SVC object (again with fit and transform functions).\n",
        "3. Then we create a pipeline: `data --> scaler --> svc --> fit`.\n",
        "4. The same transformation is also applied during the prediction phase.\n",
        "\n",
        "We further use a `GridSearchCV` for the SVC's parameters tuning."
      ]
    },
    {
      "cell_type": "code",
      "metadata": {
        "id": "Oc6lfDLFMToN",
        "colab_type": "code",
        "outputId": "64bce6a3-fc6f-42e4-9716-eca88d43acfe",
        "colab": {
          "base_uri": "https://localhost:8080/",
          "height": 228
        }
      },
      "source": [
        "# Task 2\n",
        "\n",
        "# Creating a SVM classifier instance\n",
        "svc = SVC()\n",
        "\n",
        "# Add a scaler here (If you don't add anything here, your code won't execute!)\n",
        "data_scaler = StandardScaler()\n",
        "\n",
        "# Update the pipeline by adding the scaler from the previous line\n",
        "model = make_pipeline(data_scaler, svc)\n",
        "param_grid = {'svc__C': [1, 5, 10, 50],\n",
        "              'svc__gamma': [0.0001, 0.0005, 0.001, 0.005]}\n",
        "\n",
        "grid = GridSearchCV(model, param_grid)\n",
        "%time grid.fit(X_train, y_train)\n",
        "print( grid.best_estimator_)"
      ],
      "execution_count": 0,
      "outputs": [
        {
          "output_type": "stream",
          "text": [
            "CPU times: user 356 ms, sys: 1.3 ms, total: 357 ms\n",
            "Wall time: 362 ms\n",
            "Pipeline(memory=None,\n",
            "         steps=[('standardscaler',\n",
            "                 StandardScaler(copy=True, with_mean=True, with_std=True)),\n",
            "                ('svc',\n",
            "                 SVC(C=50, break_ties=False, cache_size=200, class_weight=None,\n",
            "                     coef0=0.0, decision_function_shape='ovr', degree=3,\n",
            "                     gamma=0.001, kernel='rbf', max_iter=-1, probability=False,\n",
            "                     random_state=None, shrinking=True, tol=0.001,\n",
            "                     verbose=False))],\n",
            "         verbose=False)\n"
          ],
          "name": "stdout"
        }
      ]
    },
    {
      "cell_type": "code",
      "metadata": {
        "id": "NvAGDr3cMToS",
        "colab_type": "code",
        "colab": {}
      },
      "source": [
        "# Selecting the best estimator after the parameter search\n",
        "model = grid.best_estimator_"
      ],
      "execution_count": 0,
      "outputs": []
    },
    {
      "cell_type": "code",
      "metadata": {
        "id": "V1LDJsYcMToV",
        "colab_type": "code",
        "colab": {}
      },
      "source": [
        "# Predicting the test labels\n",
        "y_pred = model.predict(X_test)"
      ],
      "execution_count": 0,
      "outputs": []
    },
    {
      "cell_type": "code",
      "metadata": {
        "id": "kvOf9Cc0MToW",
        "colab_type": "code",
        "outputId": "c90ad127-f86f-4d56-8cad-d6235bd785b2",
        "colab": {
          "base_uri": "https://localhost:8080/",
          "height": 210
        }
      },
      "source": [
        "# Printing the classification report\n",
        "print(classification_report(y_pred=y_pred,y_true=y_test))"
      ],
      "execution_count": 0,
      "outputs": [
        {
          "output_type": "stream",
          "text": [
            "              precision    recall  f1-score   support\n",
            "\n",
            "         0.0       0.78      0.97      0.86        32\n",
            "         1.0       0.43      0.27      0.33        11\n",
            "         2.0       0.33      0.29      0.31         7\n",
            "         3.0       0.25      0.14      0.18         7\n",
            "\n",
            "    accuracy                           0.65        57\n",
            "   macro avg       0.45      0.42      0.42        57\n",
            "weighted avg       0.59      0.65      0.61        57\n",
            "\n"
          ],
          "name": "stdout"
        }
      ]
    },
    {
      "cell_type": "code",
      "metadata": {
        "id": "Xb-B-Fk8MToY",
        "colab_type": "code",
        "outputId": "2e2211af-f07d-4301-e299-2e63504e7cbc",
        "colab": {
          "base_uri": "https://localhost:8080/",
          "height": 385
        }
      },
      "source": [
        "# Computing the confusion matrix for the test data\n",
        "cnf_matrix = confusion_matrix(y_test, y_pred)\n",
        "\n",
        "# Plotting the confusion matrix using the previous function\n",
        "plot_confusion_matrix(cnf_matrix, classes=[0,1,2,3],\n",
        "                      title='Confusion matrix, without normalization')"
      ],
      "execution_count": 0,
      "outputs": [
        {
          "output_type": "stream",
          "text": [
            "Confusion matrix, without normalization\n",
            "[[31  0  1  0]\n",
            " [ 7  3  1  0]\n",
            " [ 1  1  2  3]\n",
            " [ 1  3  2  1]]\n"
          ],
          "name": "stdout"
        },
        {
          "output_type": "display_data",
          "data": {
            "image/png": "[encoded data removed]",
            "text/plain": [
              "<Figure size 432x288 with 2 Axes>"
            ]
          },
          "metadata": {
            "tags": []
          }
        }
      ]
    },
    {
      "cell_type": "markdown",
      "metadata": {
        "id": "gp07ieCCMToa",
        "colab_type": "text"
      },
      "source": [
        "# Task 3 [20 marks]\n",
        "\n",
        "### How to handle the missing data\n",
        "\n",
        "More information can be found here:\n",
        "(https://pandas.pydata.org/pandas-docs/stable/user_guide/missing_data.html)\n",
        "\n",
        "a) [4 scores] Name two numeric methods for dealing with the missing data (except dropping):\n",
        "    \n",
        "    Write the answer here:\n",
        "    \n",
        "    1- Fill missing data with a scalar.\n",
        "    \n",
        "    2- Fill missing data with propogating values forward.\n",
        "    "
      ]
    },
    {
      "cell_type": "markdown",
      "metadata": {
        "id": "pUP55Gs2MTob",
        "colab_type": "text"
      },
      "source": [
        "b) [6 scores] Apply the methods that you mentioned in part (a) to the `df_with_missing_data` dataframe:"
      ]
    },
    {
      "cell_type": "code",
      "metadata": {
        "id": "_QFGTYsQMToc",
        "colab_type": "code",
        "colab": {}
      },
      "source": [
        "# Task 3 part (b)\n",
        "# Add your code here (If you don't add anything here, your code won't execute!)\n",
        "\n",
        "df_with_missing_data = pd.read_csv('/content/processed_cleveland.csv', header=None)\n",
        "df_with_missing_data.columns = ['age', 'sex', 'cp', 'trestbps', 'chol', 'fbs', \n",
        "                                'restecg', 'thalach', 'exang', 'oldpeak', 'slope', 'ca', 'thal', 'prediction']\n",
        "#replace '?' with nan\n",
        "df_with_missing_data.replace('?', np.nan, inplace=True) \n",
        "\n",
        "#Fill in with a scalar\n",
        "df_1 = df_with_missing_data.fillna(2)\n",
        "\n",
        "#Fill in with propagated values\n",
        "df_2 = df_with_missing_data.fillna(method='pad')\n",
        "\n",
        "#convert strings to floats\n",
        "df_1 = df_1.astype(float)\n",
        "df_2 = df_2.astype(float)\n"
      ],
      "execution_count": 0,
      "outputs": []
    },
    {
      "cell_type": "markdown",
      "metadata": {
        "id": "91US6AmtMToe",
        "colab_type": "text"
      },
      "source": [
        "c) [10 scores] Apply the steps described in *Task 2* on `df_1` and `df_2` and show the results using `classification_report` and `plot_confusion_matrix`."
      ]
    },
    {
      "cell_type": "code",
      "metadata": {
        "id": "2gHdtb6XMToe",
        "colab_type": "code",
        "outputId": "1d23bea0-ae97-4cff-8191-b98a2e229c7f",
        "colab": {
          "base_uri": "https://localhost:8080/",
          "height": 1000
        }
      },
      "source": [
        "# Task 3 part (c)\n",
        "# Add your code here\n",
        "\n",
        "frames = [df_1, df_2]\n",
        "\n",
        "for df in frames:\n",
        "  # Separating the data and the labels\n",
        "  X = np.asarray(df[df.columns[:-1]]).astype(np.float32)\n",
        "  y = np.asarray(df.prediction)\n",
        "\n",
        "  # Splitting the data into the train and the test sets\n",
        "  sss = StratifiedShuffleSplit(n_splits=1, test_size=0.2, random_state=0)\n",
        "  sss.get_n_splits(X, y)\n",
        "\n",
        "  train_index, test_index = next(sss.split(X, y))\n",
        "  X_train, X_test = X[train_index], X[test_index]\n",
        "  y_train, y_test = y[train_index], y[test_index]\n",
        "\n",
        "  # Creating a SVM classifier instance\n",
        "  svc = SVC()\n",
        "\n",
        "  # Add a scaler here (If you don't add anything here, your code won't execute!)\n",
        "  data_scaler = StandardScaler()\n",
        "\n",
        "  # Update the pipeline by adding the scaler from the previous line\n",
        "  model = make_pipeline(data_scaler, svc)\n",
        "  param_grid = {'svc__C': [1, 5, 10, 50],\n",
        "                'svc__gamma': [0.0001, 0.0005, 0.001, 0.005]}\n",
        "\n",
        "  grid = GridSearchCV(model, param_grid)\n",
        "  grid.fit(X_train, y_train)\n",
        "\n",
        "  # Selecting the best estimator after the parameter search\n",
        "  model = grid.best_estimator_\n",
        "\n",
        "  # Predicting the test labels\n",
        "  y_pred = model.predict(X_test)\n",
        "\n",
        "  # Printing the classification report\n",
        "  print(classification_report(y_pred=y_pred,y_true=y_test))\n",
        "\n",
        "  # Computing the confusion matrix for the test data\n",
        "  cnf_matrix = confusion_matrix(y_test, y_pred)\n",
        "\n",
        "  # Plotting the confusion matrix using the previous function\n",
        "  plt.figure()\n",
        "  plot_confusion_matrix(cnf_matrix, classes=[0,1,2,3],\n",
        "                        title='Confusion matrix, without normalization')"
      ],
      "execution_count": 0,
      "outputs": [
        {
          "output_type": "stream",
          "text": [
            "              precision    recall  f1-score   support\n",
            "\n",
            "         0.0       0.78      0.94      0.85        33\n",
            "         1.0       0.17      0.18      0.17        11\n",
            "         2.0       0.20      0.14      0.17         7\n",
            "         3.0       0.00      0.00      0.00         7\n",
            "         4.0       0.00      0.00      0.00         3\n",
            "\n",
            "    accuracy                           0.56        61\n",
            "   macro avg       0.23      0.25      0.24        61\n",
            "weighted avg       0.47      0.56      0.51        61\n",
            "\n",
            "Confusion matrix, without normalization\n",
            "[[31  2  0  0  0]\n",
            " [ 6  2  1  2  0]\n",
            " [ 2  3  1  1  0]\n",
            " [ 1  4  2  0  0]\n",
            " [ 0  1  1  1  0]]\n",
            "              precision    recall  f1-score   support\n",
            "\n",
            "         0.0       0.79      0.94      0.86        33\n",
            "         1.0       0.14      0.18      0.16        11\n",
            "         2.0       0.17      0.14      0.15         7\n",
            "         3.0       0.00      0.00      0.00         7\n",
            "         4.0       0.00      0.00      0.00         3\n",
            "\n",
            "    accuracy                           0.56        61\n",
            "   macro avg       0.22      0.25      0.23        61\n",
            "weighted avg       0.47      0.56      0.51        61\n",
            "\n",
            "Confusion matrix, without normalization\n",
            "[[31  2  0  0  0]\n",
            " [ 6  2  2  1  0]\n",
            " [ 2  4  1  0  0]\n",
            " [ 0  5  2  0  0]\n",
            " [ 0  1  1  1  0]]\n"
          ],
          "name": "stdout"
        },
        {
          "output_type": "display_data",
          "data": {
            "image/png": "[encoded data removed]",
            "text/plain": [
              "<Figure size 432x288 with 2 Axes>"
            ]
          },
          "metadata": {
            "tags": []
          }
        },
        {
          "output_type": "display_data",
          "data": {
            "image/png": "[encoded data removed]",
            "text/plain": [
              "<Figure size 432x288 with 2 Axes>"
            ]
          },
          "metadata": {
            "tags": []
          }
        }
      ]
    },
    {
      "cell_type": "markdown",
      "metadata": {
        "id": "riRd6gASMTog",
        "colab_type": "text"
      },
      "source": [
        "# Task 4 [10 marks]\n",
        "\n",
        "### Model Evaluation\n",
        "\n",
        "For the given confusion matrix, answer the following questions."
      ]
    },
    {
      "cell_type": "code",
      "metadata": {
        "id": "fxU23uFIq-zp",
        "colab_type": "code",
        "outputId": "48159d48-96dc-4b82-c1a8-da715376110f",
        "colab": {
          "base_uri": "https://localhost:8080/",
          "height": 210
        }
      },
      "source": [
        "!wget http://dev1-kimia.uwaterloo.ca:5000/data/ass2/foo.png"
      ],
      "execution_count": 0,
      "outputs": [
        {
          "output_type": "stream",
          "text": [
            "--2020-02-26 19:33:31--  http://dev1-kimia.uwaterloo.ca:5000/data/ass2/foo.png\n",
            "Resolving dev1-kimia.uwaterloo.ca (dev1-kimia.uwaterloo.ca)... 129.97.229.28\n",
            "Connecting to dev1-kimia.uwaterloo.ca (dev1-kimia.uwaterloo.ca)|129.97.229.28|:5000... connected.\n",
            "HTTP request sent, awaiting response... 200 OK\n",
            "Length: 19837 (19K) [image/png]\n",
            "Saving to: ‘foo.png’\n",
            "\n",
            "\rfoo.png               0%[                    ]       0  --.-KB/s               \rfoo.png             100%[===================>]  19.37K  --.-KB/s    in 0.04s   \n",
            "\n",
            "2020-02-26 19:33:31 (525 KB/s) - ‘foo.png’ saved [19837/19837]\n",
            "\n"
          ],
          "name": "stdout"
        }
      ]
    },
    {
      "cell_type": "code",
      "metadata": {
        "id": "HSuSYFySMToh",
        "colab_type": "code",
        "outputId": "4ab7b7c0-52b8-4159-a3ea-903e8c1fec40",
        "colab": {
          "base_uri": "https://localhost:8080/",
          "height": 449
        }
      },
      "source": [
        "I = plt.imread('/content/foo.png')\n",
        "fig = plt.figure(figsize= (10,10))\n",
        "plt.imshow(I)\n",
        "plt.axis('off')\n",
        "plt.show()\n"
      ],
      "execution_count": 0,
      "outputs": [
        {
          "output_type": "display_data",
          "data": {
            "image/png": "[encoded data removed]",
            "text/plain": [
              "<Figure size 720x720 with 1 Axes>"
            ]
          },
          "metadata": {
            "tags": []
          }
        }
      ]
    },
    {
      "cell_type": "markdown",
      "metadata": {
        "id": "iOOvz6AkMToj",
        "colab_type": "text"
      },
      "source": [
        "#### Calculate the following parameters (Use micro-average definition)\n",
        "\n",
        "You can find all these definitions on https://scikit-learn.org/stable/auto_examples/model_selection/plot_precision_recall.html \n",
        " and https://en.wikipedia.org/wiki/Confusion_matrix\n",
        " \n",
        " Write your answer in front of each parameter:\n",
        "\n",
        "1- [1 score] total number of instances = 15\n",
        "\n",
        "2- [1 score] number of classes = 3\n",
        "\n",
        "3- [1 score] True positive (TP) = 2.333\n",
        "\n",
        "4- [1 score] True negative (TN) = 7.333\n",
        "\n",
        "5- [1 score] False positive (FP) = 2.667\n",
        "\n",
        "6- [1 score] False negative (FN) = 2.667\n",
        "\n",
        "7- [1 score] Sensitivity, recall, hit rate, or true positive rate (TPR) = 0.467\n",
        "\n",
        "8- [1 score] Specificity, selectivity or true negative rate (TNR) = 0.733\n",
        "\n",
        "9- [2 scores] F1-Score = 0.467"
      ]
    },
    {
      "cell_type": "markdown",
      "metadata": {
        "id": "MFip323xMToj",
        "colab_type": "text"
      },
      "source": [
        "# Task 5 [20 marks]\n",
        "\n",
        "## kmeans objective function\n",
        "The objective function for kmeans clustering is as follows: \n",
        "\n",
        "$$E(S,\\mu)= \\sum_{k=1}^K \\sum_{p\\in S^k}\\|f_p-\\mu_k \\|^2 \\tag{1}$$\n",
        "\n",
        "where $S^k$ is set of data points in $k_{th}$ cluster and $\\mu_k$ is mean of data points in $k_{th}$ cluster. If we replace the fromula for calculating $\\mu_k$ (sample mean):$\\mu_k=\\frac{1}{|S^k|}\\sum_{p\\in S^k}^K f_p$ $\\enspace$ ($|S^k|$ is number of data points in $k_{th}$ cluster) in equation (1) the non-parametric version of kmeans objective function can be obtained and that is:\n",
        "\n",
        "\n",
        "$$E(S)=\\sum_{k=1}^K \\frac{\\sum_{pq\\in S^k}\\|f_p-f_q\\|^2}{2\\;|S^k|} \\tag{2}$$\n",
        "\n",
        "where $f_p$ and $f_q$ are $p_{th}$ and $q_{th}$ data points in $S^k$.\n",
        "\n",
        "### a) Show that this non-parametric objective function can be written as:\n",
        "\n",
        "$$E(S)=\\sum_{k=1}^K  |S^k|.    var(S^k)$$ where $var(S^k)$ is sample variance of data points in $S^k$.\n",
        "\n",
        "### b) Show the following equivalance for the nonparametric formulation of kmeans objective function:\n",
        "\n",
        "$$ E(S)= \\sum_{k=1}^K \\frac{\\sum_{pq\\in S^k}\\|f_p-f_q\\|^2}{2\\;|S^k|} \\;\\;=\\;\\; const - \\sum_{k=1}^K \\frac{\\sum_{pq\\in S^k} \\langle f_p,f_q\\rangle}{|S^k|}$$\n",
        "\n",
        "Where $const$ is a constant and $\\langle f_p,f_q\\rangle$ is dot product of $f_p$ and $f_q$."
      ]
    },
    {
      "cell_type": "markdown",
      "metadata": {
        "id": "KG4OmTMdMTok",
        "colab_type": "text"
      },
      "source": [
        "# Task 6 [10 marks]\n",
        "\n",
        "## color quantization using kmeans \n",
        "### step 1 image to data matrix\n",
        "\n",
        "Write a function that takes an image and return a numpy array where number of rows are equal to number of pixels and number columns is equal to 3 representing $[R,G,B]$ "
      ]
    },
    {
      "cell_type": "code",
      "metadata": {
        "id": "U4lIKaDVMTol",
        "colab_type": "code",
        "colab": {}
      },
      "source": [
        "def image_to_data(image):\n",
        "    \n",
        "  # write your code here\n",
        "  img_list = np.asarray(image)\n",
        "  data_matrix = []\n",
        "  \n",
        "  for chunk in img_list:\n",
        "    for pixel in chunk:\n",
        "      data_matrix.append(pixel)\n",
        "\n",
        "  return np.asarray(data_matrix)"
      ],
      "execution_count": 0,
      "outputs": []
    },
    {
      "cell_type": "markdown",
      "metadata": {
        "id": "HwWpmWLSMTon",
        "colab_type": "text"
      },
      "source": [
        "### step 2 use elbow method and find number of clusters\n",
        "In the following a sample image is provided in image variable. Use image_to_data function that you wrote in the step 1 and calculate data_matrix. Then write a peace of code that implements elbow method and apply that on data_matrix.\n",
        "Find optimal value of number of clusters data_matrix and put this value in number_of_custers.  "
      ]
    },
    {
      "cell_type": "code",
      "metadata": {
        "id": "EjMgI767MTon",
        "colab_type": "code",
        "colab": {}
      },
      "source": [
        "# loading sample image\n",
        "from skimage.io import imread\n",
        "from sklearn.datasets import load_sample_image\n",
        "image = load_sample_image('flower.jpg')"
      ],
      "execution_count": 0,
      "outputs": []
    },
    {
      "cell_type": "code",
      "metadata": {
        "id": "eAprR9XcMTop",
        "colab_type": "code",
        "outputId": "acff5c3a-489f-43a1-da78-3104fb3097b9",
        "colab": {
          "base_uri": "https://localhost:8080/",
          "height": 347
        }
      },
      "source": [
        "# write your code for elbow method here\n",
        "from sklearn.cluster import KMeans\n",
        "\n",
        "#this library builds the elbow method graph using a distortion score\n",
        "from yellowbrick.cluster import KElbowVisualizer\n",
        "\n",
        "data_matrix = image_to_data(image)\n",
        "\n",
        "model = KMeans()\n",
        "visualizer = KElbowVisualizer(model, k=(2,12), locate_elbow=True)\n",
        "\n",
        "visualizer.fit(data_matrix)\n",
        "\n",
        "#store optimal value for number of clusters here in number_of_custers\n",
        "number_of_custers=5"
      ],
      "execution_count": 0,
      "outputs": [
        {
          "output_type": "display_data",
          "data": {
            "image/png": "[encoded data removed]",
            "text/plain": [
              "<Figure size 576x396 with 2 Axes>"
            ]
          },
          "metadata": {
            "tags": []
          }
        }
      ]
    },
    {
      "cell_type": "markdown",
      "metadata": {
        "id": "GhS9f-PY40F1",
        "colab_type": "text"
      },
      "source": [
        "Here, the dotted green line represents the amount of time it took to generate the k clusters."
      ]
    },
    {
      "cell_type": "markdown",
      "metadata": {
        "id": "Dm5Y8skGMTor",
        "colab_type": "text"
      },
      "source": [
        "### step 3 apply kmeans on data matrix\n",
        "The data_matrix that you calculated in step 2, is a three dimensional representation of the image. So the squared error between RGB feture $F_p=[R_p,G_p,B_p]$ at any pixel $p$ and any given cluster mean $m=[R_m,G_m,B_m]$ is \n",
        "#### $$||F_p - m||^2 = (R_p - R_m)^2 + (G_p - G_m)^2 + (B_p - B_m)^2.$$\n",
        "\n",
        "Use sklearn to apply kmeans on data_matrix. Please use the optimal value for number of clusters that you found in step 2.\n",
        "\n",
        "After applying kmeans, for each data point (row in data_matrix) you have a 3 vector which is the closest cluster center to that data point or equally center of the cluster this data point belongs to. \n",
        "\n",
        "For each data point, find the closest cluster center which is a 3 vector and bring back these values in the image shape and visualize that as an iamge using plt.imshow().\n",
        "\n"
      ]
    },
    {
      "cell_type": "code",
      "metadata": {
        "id": "sLopI7aFMTos",
        "colab_type": "code",
        "outputId": "b476eb4d-e832-4fb6-df9d-acda582042e8",
        "colab": {
          "base_uri": "https://localhost:8080/",
          "height": 366
        }
      },
      "source": [
        "# write your code here \n",
        "\n",
        "from sklearn.cluster import KMeans\n",
        "from scipy.spatial import distance\n",
        "from operator import itemgetter\n",
        "\n",
        "kmeans = KMeans(n_clusters=5).fit(data_matrix)\n",
        "\n",
        "#returns closest cluster center to input point\n",
        "def closest_cluster(point, means=kmeans.cluster_centers_):\n",
        "  #get list of distances\n",
        "  distances = distance.cdist(np.array(means), np.array([point]), 'euclidean')\n",
        "  #get index of smallest distance cluster mean\n",
        "  min_index = min(enumerate(distances), key=itemgetter(1))[0] \n",
        "  return means[min_index]\n",
        "\n",
        "#get closest cluster center for each pixel and build image data\n",
        "means_matrix = np.array([[0, 0, 0]]) #trick to enable np.vstack \n",
        "for point in data_matrix:\n",
        "  closest = closest_cluster(point)\n",
        "  means_matrix = np.vstack((means_matrix, closest))\n",
        "\n",
        "#remove extra means_matrix entry\n",
        "means_matrix = np.delete(means_matrix, 0, 0)\n",
        "#reshape matrix to fit plt.imshow requirements\n",
        "means_matrix = np.reshape(means_matrix, (427, 640, 3))\n",
        "# plot image from cluster centers\n",
        "plt.imshow(means_matrix.astype(int))\n"
      ],
      "execution_count": 0,
      "outputs": [
        {
          "output_type": "execute_result",
          "data": {
            "text/plain": [
              "<matplotlib.image.AxesImage at 0x7f8140a10390>"
            ]
          },
          "metadata": {
            "tags": []
          },
          "execution_count": 25
        },
        {
          "output_type": "display_data",
          "data": {
            "image/png": "[encoded data removed]",
            "text/plain": [
              "<Figure size 576x396 with 1 Axes>"
            ]
          },
          "metadata": {
            "tags": []
          }
        }
      ]
    },
    {
      "cell_type": "markdown",
      "metadata": {
        "id": "QSgXxYMiMTou",
        "colab_type": "text"
      },
      "source": [
        "# Task 7 [10 marks]\n",
        "## SOM\n",
        "Use minisom package, create a latice with size of (40,40) and map train_data (which consits of 15 colors) to this lattice. \n",
        "put the earning_rate=0.5, sigma=4, and 1000 iterations for trainig your model."
      ]
    },
    {
      "cell_type": "code",
      "metadata": {
        "id": "47-6h8IkMTou",
        "colab_type": "code",
        "outputId": "bf74b30d-bf09-40cc-ed94-2ceeebb8c6a9",
        "colab": {
          "base_uri": "https://localhost:8080/",
          "height": 195
        }
      },
      "source": [
        "!pip install minisom"
      ],
      "execution_count": 0,
      "outputs": [
        {
          "output_type": "stream",
          "text": [
            "Collecting minisom\n",
            "  Downloading https://files.pythonhosted.org/packages/a8/7b/fa65614c0509aa207829535b8cfc0a04c3f9a573fb5cec2bb5771b42c55a/MiniSom-2.2.3.tar.gz\n",
            "Building wheels for collected packages: minisom\n",
            "  Building wheel for minisom (setup.py) ... \u001b[?25l\u001b[?25hdone\n",
            "  Created wheel for minisom: filename=MiniSom-2.2.3-cp36-none-any.whl size=7550 sha256=95ac0a4aa661c35f3f11c805927694e4bfd5f33ce851daf49d3c959af49ef46a\n",
            "  Stored in directory: /root/.cache/pip/wheels/35/62/79/4d921062c847ee15a3bb3ac2ea984ed401c8b6b2944f08f697\n",
            "Successfully built minisom\n",
            "Installing collected packages: minisom\n",
            "Successfully installed minisom-2.2.3\n"
          ],
          "name": "stdout"
        }
      ]
    },
    {
      "cell_type": "code",
      "metadata": {
        "id": "U0QvnFv0MTow",
        "colab_type": "code",
        "outputId": "a1f1f54d-3da4-4217-cd74-23c3ebafcc66",
        "colab": {
          "base_uri": "https://localhost:8080/",
          "height": 70
        }
      },
      "source": [
        "from minisom import MiniSom\n",
        "\n",
        "import numpy as np\n",
        "import matplotlib.pyplot as plt\n",
        "%matplotlib inline\n",
        "\n",
        "%load_ext autoreload\n",
        "\n",
        "#Training inputs for RGBcolors\n",
        "train_data = np.array(\n",
        "     [[0., 0., 0.],\n",
        "      [0., 0., 1.],\n",
        "      [0., 0., 0.5],\n",
        "      [0.125, 0.529, 1.0],\n",
        "      [0.33, 0.4, 0.67],\n",
        "      [0.6, 0.5, 1.0],\n",
        "      [0., 1., 0.],\n",
        "      [1., 0., 0.],\n",
        "      [0., 1., 1.],\n",
        "      [1., 0., 1.],\n",
        "      [1., 1., 0.],\n",
        "      [1., 1., 1.],\n",
        "      [.33, .33, .33],\n",
        "      [.5, .5, .5],\n",
        "      [.66, .66, .66]])\n",
        "color_names = ['black', 'blue', 'darkblue', 'skyblue',\n",
        "     'greyblue', 'lilac', 'green', 'red',\n",
        "     'cyan', 'violet', 'yellow', 'white',\n",
        "     'darkgrey', 'mediumgrey', 'lightgrey']\n",
        "\n",
        "from minisom import MiniSom   \n",
        "# define your model here\n",
        "#som = MiniSom(40,40,3,sigma=4.0,learning_rate=0.5) #sigma = 4\n",
        "som = MiniSom(40,40,3,sigma=1.0,learning_rate=0.5) #sigma = 1\n",
        "som.random_weights_init(train_data)\n",
        "\n",
        "# train your model:\n",
        "som.train_random(train_data,1000, verbose=True)\n",
        "\n",
        "# after training the som, extract the weights of neurons and store them in variable som_weights\n",
        "som_weights = som.get_weights()"
      ],
      "execution_count": 0,
      "outputs": [
        {
          "output_type": "stream",
          "text": [
            " [ 1000 / 1000 ] 100% - 0:00:00 left \n",
            " quantization error: 6.406840336003418e-19\n",
            " topographic error: 0.5333333333333333\n"
          ],
          "name": "stdout"
        }
      ]
    },
    {
      "cell_type": "code",
      "metadata": {
        "id": "cPUnsd8qMToz",
        "colab_type": "code",
        "outputId": "deecf455-1bd7-44e7-e034-ba34e357c536",
        "colab": {
          "base_uri": "https://localhost:8080/",
          "height": 285
        }
      },
      "source": [
        "#Run this to visualize the result for sigma = 4\n",
        "plt.imshow(abs(som_weights), interpolation='none')"
      ],
      "execution_count": 0,
      "outputs": [
        {
          "output_type": "execute_result",
          "data": {
            "text/plain": [
              "<matplotlib.image.AxesImage at 0x7f8140c3a5f8>"
            ]
          },
          "metadata": {
            "tags": []
          },
          "execution_count": 28
        },
        {
          "output_type": "display_data",
          "data": {
            "image/png": "[encoded data removed]",
            "text/plain": [
              "<Figure size 432x288 with 1 Axes>"
            ]
          },
          "metadata": {
            "tags": []
          }
        }
      ]
    },
    {
      "cell_type": "markdown",
      "metadata": {
        "id": "RZyXd8-7MTo1",
        "colab_type": "text"
      },
      "source": [
        "change the value of sigma to 1 and get the results again. Explain the difference you see.\n",
        "\n",
        "We can see that with a sigma value of 4, the groupings are large and colors are not intermixed (with the exception of the edges of the groupings). The quantization error is very small and the topographic error is 0 using sigma=4. With a sigma value of 1 however, there are still clear color groups but they are much smaller and there is significantly more mixing amongst the colors. Here, the quantization error is smaller than that of sigma=4 but the topographic error is ~0.5 which is very large.\n",
        "\n",
        "This makes sense as sigma represents the radius of the different neighbours in the SOM."
      ]
    },
    {
      "cell_type": "code",
      "metadata": {
        "id": "T9kNFyNwMTo2",
        "colab_type": "code",
        "colab": {}
      },
      "source": [
        "# Assignment end"
      ],
      "execution_count": 0,
      "outputs": []
    }
  ]
}